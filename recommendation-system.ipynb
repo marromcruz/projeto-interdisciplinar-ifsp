{
 "cells": [
  {
   "cell_type": "markdown",
   "metadata": {
    "id": "2iKLM94jkSvX"
   },
   "source": [
    "## **Sistemas de Recomendação <br>**\n",
    "<br>\n",
    "\n",
    "Sistemas de recomendação desempenham papel importante na personalização da experiência do usuário em vários tipos de plataformas e serviços online, já que existe a disponibilidade de um número quase ilimitado de opções (por exemplo, diferentes gêneros de filmes de qualidade variada), o usuário precisa de orientação para o próximo item que atenda às suas expectativas.\n",
    "\n",
    "### **Tipos de sistemas <br>**\n",
    "<br>\n",
    "Existem muitas maneiras e algoritmos usados ​​para construir um sistema de recomendação. As principais abordagens são: Item Mais Popular, Associação/Modelo de Cesta, Filtragem de Conteúdo, Filtragem Colaborativa (baseado no usuário e/ou no item) e Modelos Híbridos.\n",
    "\n",
    "Intuitivamente, os Modelos Híbridos parecem ser mais efetivos, já que combinam duas ou mais estratégias de recomendação, porém, neste trabalho, vamos assumir que usuários semelhantes avaliam de forma semelhante os filmes e usar os métodos de filtragem colaborativa, mais especificamente o SVD e NMF, considerando a abordagem baseada nos itens (filmes).\n",
    "\n",
    "### **User-based vs Item-Based <br>**\n",
    "\n",
    "Lembrando que a abordagem deste trabalho é supondo que usuários semelhantes exibem preferências semelhantes. Para determinar o grupo de referência no modelo **user-based**, leva-se em consideração que tanto o usuário quanto o grupo compartilham um histórico de classificação de itens semelhantes. Na próxima etapa, o sistema aloca os únicos itens aos quais o grupo de referência foi exposto anteriormente e recomenda os itens do usuário final com base na classificação dos usuários do grupo que avaliaram aquele item. As técnicas colaborativas **item-based** analisam a matriz item-usuário e identificam relações entre diferentes itens. O sistema de recomendação baseado em itens faz, então, recomendações com base nas relações lineares (semelhanças) entre os itens. <br> <br>\n",
    "\n",
    "\n",
    "Este trabalho avalia a Filtragem Colaborativa Baseada em Itens. No contexto de uma recomendação de filme para filme, um filtro colaborativo responde à pergunta: “*Quais filmes têm um perfil de avaliação de usuário semelhante*?”."
   ]
  },
  {
   "cell_type": "markdown",
   "metadata": {
    "id": "v-D1HAACSBkV"
   },
   "source": [
    "# Leitura dos dados"
   ]
  },
  {
   "cell_type": "markdown",
   "metadata": {},
   "source": [
    "Definindo variável flag que busca dados de fontes diferentes (AWS S3 ou Group Lens):"
   ]
  },
  {
   "cell_type": "code",
   "execution_count": 17,
   "metadata": {
    "tags": []
   },
   "outputs": [],
   "source": [
    "ENV_AWS = False"
   ]
  },
  {
   "cell_type": "markdown",
   "metadata": {
    "id": "JsGdaE4MfzE-"
   },
   "source": [
    "## **Conjunto de dados analisado <br>**\n",
    "<br>\n",
    "\n",
    "MovieLens é um site de recomendação de filmes, administrado pela GroupLens Research da Universidade de Minnesota, que usa tecnologia de filtragem colaborativa para fazer recomendações de filmes. A GroupLens Research coletou e disponibilizou conjuntos de dados de classificação do site MovieLens (https://movielens.org), para pesquisadores que apresentem interesse em evoluir no aprendizado de personalização e tecnologias de filtragem.\n",
    "\n",
    "No site https://grouplens.org/datasets/movielens/ há vários conjuntos de dados disponibilizados, escolhemos estudar o conjunto que contém 25 milhões de avaliações, que foram feitas em 62 mil filmes por 162 mil usuários. Os dados foram gerados entre janeiro de 1995 e novembro de 2019. <br>\n",
    "\n",
    "Os usuários foram selecionados aleatoriamente para inclusão. Todos os usuários selecionados avaliaram pelo menos 20 filmes. Não há informações demográficas disponíveis. Cada usuário é representado por um ID e nenhuma outra informação do usuário é fornecida.\n",
    "\n",
    "Os dados estão divididos em  alguns arquivos e neste trabalho foram usados os seguintes arquivos:\n",
    "\n",
    "  * movies.csv: ID do filme, título do filme e gênero do filme (aventura, animação, criança etc) - usado na análise descritiva;\n",
    "  * ratings.csv: ID do usuário, ID do filme, nota dada pelo usuário ao filme e data da avaliação - usado nos modelos de machine learning. O usuário avalia o filme com uma nota entre 0.5 e 5, sendo que quanto maior a nota, mais ele gostou do filme.;\n",
    "  * tags.csv: ID do usuário, ID do filme, tag dada pelo usuário ao filme (clássico, ficção científica, comédia etc) e data da avaliação - usado na análise descritiva.\n"
   ]
  },
  {
   "cell_type": "code",
   "execution_count": 18,
   "metadata": {
    "id": "-Uth6d_NBqXC",
    "tags": []
   },
   "outputs": [],
   "source": [
    "import requests\n",
    "import zipfile\n",
    "import pandas as pd\n",
    "import numpy as np\n",
    "import os\n",
    "import sys\n",
    "import matplotlib.pyplot as plt\n",
    "import seaborn as sns\n",
    "import boto3"
   ]
  },
  {
   "cell_type": "code",
   "execution_count": 19,
   "metadata": {
    "id": "SZ-anj4vBww5",
    "tags": []
   },
   "outputs": [],
   "source": [
    "if not ENV_AWS:\n",
    "    filename = \"ml-25m.zip\"\n",
    "    url = f\"https://files.grouplens.org/datasets/movielens/{filename}\"\n",
    "    query_parameters = {\"downloadformat\": \"zip\"}\n",
    "\n",
    "    response = requests.get(url, params=query_parameters)\n",
    "\n",
    "    with open(filename, mode=\"wb\") as file:\n",
    "        file.write(response.content)"
   ]
  },
  {
   "cell_type": "code",
   "execution_count": 20,
   "metadata": {
    "id": "2fZlLSnBBw4B",
    "tags": []
   },
   "outputs": [],
   "source": [
    "if not ENV_AWS:\n",
    "    with zipfile.ZipFile(filename,\"r\") as zip_ref:\n",
    "        zip_ref.extractall()"
   ]
  },
  {
   "cell_type": "code",
   "execution_count": 21,
   "metadata": {
    "colab": {
     "base_uri": "https://localhost:8080/",
     "height": 206
    },
    "id": "jxVj_WPuBw-E",
    "outputId": "4a11fc46-62c5-4d9f-fb4c-65bcf25ebbcc",
    "tags": []
   },
   "outputs": [],
   "source": [
    "if not ENV_AWS:\n",
    "    folder = \"ml-25m\"\n",
    "    df_ratings = pd.read_csv(f\"{folder}/ratings.csv\")\n",
    "    df_ratings.head()"
   ]
  },
  {
   "cell_type": "markdown",
   "metadata": {
    "id": "rSKOhlXeSg11"
   },
   "source": [
    "Selecionando apenas as colunas que serão usadas."
   ]
  },
  {
   "cell_type": "code",
   "execution_count": 22,
   "metadata": {
    "colab": {
     "base_uri": "https://localhost:8080/"
    },
    "id": "Ym-fDsq4BxEJ",
    "outputId": "1377fc82-b45d-4846-b048-6d62f39f86cb",
    "tags": []
   },
   "outputs": [],
   "source": [
    "if not ENV_AWS:\n",
    "    notas=df_ratings[['userId',  'movieId', 'rating']]\n",
    "    notas.head()\n",
    "    print(notas.shape)"
   ]
  },
  {
   "cell_type": "markdown",
   "metadata": {
    "id": "n_SdzAB5rmDt"
   },
   "source": [
    "No banco de dados existem apenas usuários que avaliaram pelo menos 20 filmes, porém filmes com poucas avaliações também podem aumentar a instabilidade das predições, por isso manteremos no banco de dados apenas filmes com pelo menos 20 avaliações, removendo, então 0,7% das avaliações."
   ]
  },
  {
   "cell_type": "code",
   "execution_count": 23,
   "metadata": {
    "colab": {
     "base_uri": "https://localhost:8080/"
    },
    "id": "odoe0qG5r-1K",
    "outputId": "9fabb1b3-d34d-4c3b-8a3e-c7139b53dd7f",
    "tags": []
   },
   "outputs": [],
   "source": [
    "if not ENV_AWS:\n",
    "    notas = notas.groupby(\"movieId\").filter(lambda x: x['movieId'].count() >= 20)\n",
    "    print(notas.shape)"
   ]
  },
  {
   "cell_type": "markdown",
   "metadata": {
    "id": "8BHrxtJISlk1"
   },
   "source": [
    "<font color=red> Amostragem para rodar no colab.</font>"
   ]
  },
  {
   "cell_type": "code",
   "execution_count": 24,
   "metadata": {
    "id": "w-dv71MZBxHB",
    "tags": []
   },
   "outputs": [],
   "source": [
    "if not ENV_AWS:\n",
    "    notas = notas.sample(n=100000, replace=False, random_state=1234)"
   ]
  },
  {
   "cell_type": "markdown",
   "metadata": {
    "tags": []
   },
   "source": [
    "Lendo os dados para quando já temos os arquivos pré-processados:"
   ]
  },
  {
   "cell_type": "code",
   "execution_count": 25,
   "metadata": {
    "tags": []
   },
   "outputs": [],
   "source": [
    "if ENV_AWS:\n",
    "    s3 = boto3.client(\"s3\")\n",
    "\n",
    "    s3.download_file(\n",
    "        Bucket=\"cdd-ratings\",\n",
    "        Key=\"ratings.parquet\",\n",
    "        Filename=\"ratings.parquet\",\n",
    "    )\n",
    "    notas = pd.read_parquet(\"ratings.parquet\")"
   ]
  },
  {
   "cell_type": "markdown",
   "metadata": {
    "id": "zu1Ayp0lSvWt"
   },
   "source": [
    "Instalação da biblioteca Surprise e leitura das funções que serão usadas."
   ]
  },
  {
   "cell_type": "code",
   "execution_count": 29,
   "metadata": {
    "colab": {
     "base_uri": "https://localhost:8080/"
    },
    "id": "pDQ0D_uiCVeh",
    "outputId": "ce4afac6-f5f8-4ad8-f8b5-5a727c870f72",
    "tags": []
   },
   "outputs": [
    {
     "name": "stdout",
     "output_type": "stream",
     "text": [
      "Requirement already satisfied: surprise in /home/ec2-user/anaconda3/envs/python3/lib/python3.10/site-packages (0.1)\n",
      "Requirement already satisfied: scikit-surprise in /home/ec2-user/anaconda3/envs/python3/lib/python3.10/site-packages (from surprise) (1.1.3)\n",
      "Requirement already satisfied: joblib>=1.0.0 in /home/ec2-user/anaconda3/envs/python3/lib/python3.10/site-packages (from scikit-surprise->surprise) (1.3.2)\n",
      "Requirement already satisfied: numpy>=1.17.3 in /home/ec2-user/anaconda3/envs/python3/lib/python3.10/site-packages (from scikit-surprise->surprise) (1.22.4)\n",
      "Requirement already satisfied: scipy>=1.3.2 in /home/ec2-user/anaconda3/envs/python3/lib/python3.10/site-packages (from scikit-surprise->surprise) (1.11.3)\n"
     ]
    }
   ],
   "source": [
    "!pip install surprise"
   ]
  },
  {
   "cell_type": "code",
   "execution_count": 30,
   "metadata": {
    "id": "LK2-faxjBxKF",
    "tags": []
   },
   "outputs": [],
   "source": [
    "from surprise import Reader, dataset, NMF, KNNWithMeans, SVD, accuracy\n",
    "from surprise.model_selection import train_test_split, GridSearchCV, cross_validate"
   ]
  },
  {
   "cell_type": "markdown",
   "metadata": {
    "id": "c6mqCnHdS3Al"
   },
   "source": [
    "Transformação do pandas dataset em surprise (sparce matrix) dataset."
   ]
  },
  {
   "cell_type": "code",
   "execution_count": 31,
   "metadata": {
    "id": "WQ8ylKHUCccp",
    "tags": []
   },
   "outputs": [],
   "source": [
    "reader = Reader(line_format='user item rating', rating_scale=(0.5, 5))"
   ]
  },
  {
   "cell_type": "code",
   "execution_count": 32,
   "metadata": {
    "id": "dRwk4Sh3BxMx",
    "tags": []
   },
   "outputs": [],
   "source": [
    "class MyDataset(dataset.DatasetAutoFolds):\n",
    "\n",
    "    def __init__(self, df, reader):\n",
    "\n",
    "        self.raw_ratings = [(uid, iid, r, None) for (uid, iid, r) in\n",
    "                            zip(df['userId'], df['movieId'], df['rating'])]\n",
    "        self.reader=reader\n",
    "\n",
    "data = MyDataset(notas, reader)"
   ]
  },
  {
   "cell_type": "markdown",
   "metadata": {
    "id": "JkCj7JBBTCMf"
   },
   "source": [
    "Divisão do banco em treino e teste."
   ]
  },
  {
   "cell_type": "code",
   "execution_count": 33,
   "metadata": {
    "id": "ks3pCO0BCdpb",
    "tags": []
   },
   "outputs": [],
   "source": [
    "trainset, testset = train_test_split(data, test_size=.20, random_state=1234)"
   ]
  },
  {
   "cell_type": "markdown",
   "metadata": {
    "id": "59QK9EHOtU2C"
   },
   "source": [
    "## **Treinamento dos modelos** <br> <br>\n",
    "\n",
    "### **Centered KNN** <br>\n",
    "\n",
    "O KNN é um algoritmo baseado em memória, ou seja, é aplicado em todo o banco de dados para calcular as predições. Na biblioteca surprise, o Centered KNN é nomeado como KNNWithMeans e aceita 3 hiperparâmetros k (máximo número de vizinhos), min_k (número mínimo de vizinhos) e sim_options (dicionário de opções sobre as medidas de similaridade).Esse algoritmo leva em consideração a nota média de cada usuário. <br>\n",
    "\n",
    "Nesta análise usamos o cosseno como medida de similaridade, modelo baseado em itens e o default do k (40) e min_k(20)"
   ]
  },
  {
   "cell_type": "code",
   "execution_count": 34,
   "metadata": {
    "colab": {
     "base_uri": "https://localhost:8080/"
    },
    "id": "Uq3z3b0bCds1",
    "outputId": "10f9e152-45cb-4343-a14a-48997cd55ae3",
    "tags": []
   },
   "outputs": [
    {
     "name": "stdout",
     "output_type": "stream",
     "text": [
      "Computing the cosine similarity matrix...\n",
      "Done computing similarity matrix.\n"
     ]
    },
    {
     "data": {
      "text/plain": [
       "<surprise.prediction_algorithms.knns.KNNWithMeans at 0x7f8a46ec9060>"
      ]
     },
     "execution_count": 34,
     "metadata": {},
     "output_type": "execute_result"
    }
   ],
   "source": [
    "sim_options = {\n",
    "    \"name\": \"cosine\", # usa o cosseno como medida de similaridade\n",
    "    \"user_based\": False,  # calcula similaridade entre itens\n",
    "}\n",
    "algoritmoknn = KNNWithMeans(sim_options=sim_options)\n",
    "algoritmoknn.fit(trainset)"
   ]
  },
  {
   "cell_type": "markdown",
   "metadata": {
    "id": "L254JEcu4M1x"
   },
   "source": [
    "### Acurácia <br>\n",
    "\n",
    "A medida de acurácia escolhida nesta análise é o RMSE, que calcula a raiz dos erros quadráticos médio, ou seja, para cada observação, é calculada a diferença entre o valor real e o predito e essa diferença é elevada ao quadrado. Então é obtida a média de todas as diferenças e por fim é extraída a raiz quadrada. Com isso, é intuítivo, que o RMSE penaliza mais diferenças maiores. Para a interpretação, devemos considerar que as notas de avaliação variam entre 0,5 e 5, portanto, um RMSE de 1 corresponde 22% da escala e já parece ser razoavelmente alto."
   ]
  },
  {
   "cell_type": "code",
   "execution_count": 35,
   "metadata": {
    "colab": {
     "base_uri": "https://localhost:8080/"
    },
    "id": "ZgyjHxc3CdwR",
    "outputId": "72c75507-2c7e-4365-db75-5032623f930d",
    "tags": []
   },
   "outputs": [
    {
     "name": "stdout",
     "output_type": "stream",
     "text": [
      "RMSE: 0.5004\n"
     ]
    },
    {
     "data": {
      "text/plain": [
       "0.5003686853164521"
      ]
     },
     "execution_count": 35,
     "metadata": {},
     "output_type": "execute_result"
    }
   ],
   "source": [
    "test_train = trainset.build_testset()\n",
    "predictions = algoritmoknn.test(test_train)\n",
    "accuracy.rmse(predictions)"
   ]
  },
  {
   "cell_type": "markdown",
   "metadata": {
    "id": "Qtd4RBDP6LEF"
   },
   "source": [
    "Ao interpretar o RMSE calculado no banco de treinamento, devemos lembrar que essa medida é viesada, já que está calculada no mesmo conjunto de dados em que ocorreu o treinamento, ou seja, a medida tende a ser menor. Porém é um bom ponto de partida para escolher o modelo que sofrerá tunagem de hiperparâmetros."
   ]
  },
  {
   "cell_type": "markdown",
   "metadata": {
    "id": "WJ_v3Vd9-w39"
   },
   "source": [
    "As predições, no pacote surprise, retornam o id do usuário (uid), o id do filme (iid), a avaliação real do usuário (r_ui), o valor predito pelo algoritmo (est), os detalhes do algoritmo e a sentença 'was_impossible' que retorna True quando o valor predito (est) não está na escala de variação das avaliações."
   ]
  },
  {
   "cell_type": "code",
   "execution_count": 36,
   "metadata": {
    "colab": {
     "base_uri": "https://localhost:8080/"
    },
    "id": "W6R9c1zx-lzz",
    "outputId": "2eae89f3-07ab-47ae-89cd-43d1053149ab",
    "tags": []
   },
   "outputs": [
    {
     "data": {
      "text/plain": [
       "[Prediction(uid=37945, iid=2568, r_ui=0.5, est=1.212877645637255, details={'actual_k': 8, 'was_impossible': False}),\n",
       " Prediction(uid=37945, iid=3617, r_ui=4.0, est=2.750233967476335, details={'actual_k': 8, 'was_impossible': False}),\n",
       " Prediction(uid=37945, iid=30810, r_ui=3.5, est=3.1522715850311944, details={'actual_k': 8, 'was_impossible': False})]"
      ]
     },
     "execution_count": 36,
     "metadata": {},
     "output_type": "execute_result"
    }
   ],
   "source": [
    "predictions[0:3]"
   ]
  },
  {
   "cell_type": "markdown",
   "metadata": {
    "id": "Kc3LXnNJ63rr"
   },
   "source": [
    "### **SVD** <br>\n",
    "\n",
    "SVD (Singular Value Decomposition) é um algoritmo de fatoração de matrizes, cujo objetivo é reduzir a dimensionalidade para diminuir o custo computacional, já que se beneficia das propriedades da álgebra linear. Em resumo, a fatoração de matrizes pode ser vista como a decomposição de uma matriz grande em um produto de matrizes menores. Isso é semelhante à fatoração de números inteiros, onde 12 pode ser escrito como 6x2 ou 4x3, por exemplo. No caso de matrizes, uma matriz A com dimensões m x n pode ser reduzida a um produto de duas matrizes X e Y com dimensões m x p e p x n respectivamente. <br><br>\n",
    "\n",
    "SVD decompõe qualquer matriz em vetores singulares e valores singulares. O objetivo geral do SVD é decompor a matriz R com todos os elementos faltantes e, posteriormente, multiplicar seus componentes. Como resultado, não há valores ausentes e é possível recomendar a cada usuário filmes (itens) que ainda não viram. <br><br>\n",
    "\n",
    "Na biblioteca surprise, o SVD é nomeado como SVD e aceita 16 hiperparâmetros, entre eles o número de fatores (n_factors), o número de iterações (n_epochs), alguns parâmetros de aprendizagem e de regularização.\n",
    "\n",
    "Nesta análise mantemos todos os hiperparâmetros default, fixando apenas o random_state."
   ]
  },
  {
   "cell_type": "code",
   "execution_count": 37,
   "metadata": {
    "colab": {
     "base_uri": "https://localhost:8080/"
    },
    "id": "wZUzIYzuDRLi",
    "outputId": "cf02c3b1-de1c-485e-afcc-cd23f7d9a034",
    "tags": []
   },
   "outputs": [
    {
     "data": {
      "text/plain": [
       "<surprise.prediction_algorithms.matrix_factorization.SVD at 0x7f8a46e81d50>"
      ]
     },
     "execution_count": 37,
     "metadata": {},
     "output_type": "execute_result"
    }
   ],
   "source": [
    "algoritmoSVD = SVD(random_state=1234)\n",
    "algoritmoSVD.fit(trainset)"
   ]
  },
  {
   "cell_type": "code",
   "execution_count": 38,
   "metadata": {
    "colab": {
     "base_uri": "https://localhost:8080/"
    },
    "id": "HZcwcwGIDYCS",
    "outputId": "279d36a6-e20e-44d8-c34f-6cfbd8c6d554",
    "tags": []
   },
   "outputs": [
    {
     "name": "stdout",
     "output_type": "stream",
     "text": [
      "RMSE: 0.6836\n"
     ]
    },
    {
     "data": {
      "text/plain": [
       "0.6835602245943805"
      ]
     },
     "execution_count": 38,
     "metadata": {},
     "output_type": "execute_result"
    }
   ],
   "source": [
    "predictions = algoritmoSVD.test(test_train)\n",
    "accuracy.rmse(predictions)"
   ]
  },
  {
   "cell_type": "code",
   "execution_count": 39,
   "metadata": {
    "colab": {
     "base_uri": "https://localhost:8080/"
    },
    "id": "7lYFmxFz_1Y_",
    "outputId": "90229863-350d-4561-dfdf-fd58f7b5be5b",
    "tags": []
   },
   "outputs": [
    {
     "data": {
      "text/plain": [
       "[Prediction(uid=37945, iid=2568, r_ui=0.5, est=2.0930145048981434, details={'was_impossible': False}),\n",
       " Prediction(uid=37945, iid=3617, r_ui=4.0, est=3.0563772097368003, details={'was_impossible': False}),\n",
       " Prediction(uid=37945, iid=30810, r_ui=3.5, est=3.1073394761870055, details={'was_impossible': False})]"
      ]
     },
     "execution_count": 39,
     "metadata": {},
     "output_type": "execute_result"
    }
   ],
   "source": [
    "predictions[0:3]"
   ]
  },
  {
   "cell_type": "markdown",
   "metadata": {
    "id": "bP8XXH5XhGh_"
   },
   "source": [
    "### **NMF** <br>\n",
    "\n",
    "NMF (Non-negative Matrix Factorization) também é um algoritmo de fatoração de matrizes. O NMF decompõe a matriz não negativa em duas outras matrizes, em que as colunas da primeira representam os componentes e a segunda matriz armazena os pesos. O NMF coloca restrições para que as duas matrizes formadas sejam não negativas. Essa restrição é a principal diferença em relação ao SVD. <br><br>\n",
    "\n",
    "Na biblioteca surprise, o NMF é nomeado como NMF e aceita 12 hiperparâmetros, entre eles o número de fatores (n_factors), o número de iterações (n_epochs), alguns parâmetros de aprendizagem e de regularização.\n",
    "\n",
    "Nesta análise mantemos todos os hiperparâmetros default, fixando apenas o random_state."
   ]
  },
  {
   "cell_type": "code",
   "execution_count": 40,
   "metadata": {
    "colab": {
     "base_uri": "https://localhost:8080/"
    },
    "id": "PAn6eaGnIx3j",
    "outputId": "aa350873-adc2-4a90-bf7a-af4a6b01ab67",
    "tags": []
   },
   "outputs": [
    {
     "data": {
      "text/plain": [
       "<surprise.prediction_algorithms.matrix_factorization.NMF at 0x7f8a46e80a90>"
      ]
     },
     "execution_count": 40,
     "metadata": {},
     "output_type": "execute_result"
    }
   ],
   "source": [
    "algoritmoNMF = NMF(random_state=1234)\n",
    "algoritmoNMF.fit(trainset)"
   ]
  },
  {
   "cell_type": "code",
   "execution_count": 41,
   "metadata": {
    "colab": {
     "base_uri": "https://localhost:8080/"
    },
    "id": "ho-52RbyXhou",
    "outputId": "06cd56e5-7851-4f62-b532-86b092084105",
    "tags": []
   },
   "outputs": [
    {
     "name": "stdout",
     "output_type": "stream",
     "text": [
      "RMSE: 0.1085\n"
     ]
    },
    {
     "data": {
      "text/plain": [
       "0.1085418049233949"
      ]
     },
     "execution_count": 41,
     "metadata": {},
     "output_type": "execute_result"
    }
   ],
   "source": [
    "predictions = algoritmoNMF.test(test_train)\n",
    "accuracy.rmse(predictions)"
   ]
  },
  {
   "cell_type": "markdown",
   "metadata": {
    "id": "1Uapzq0hDWTI"
   },
   "source": [
    "Avaliando o RMSE no conjunto de treinamento, nota-se que o modelo com melhor perfomance é o NMF (RMSE=0,11). Portanto, vamos realizar o refinamento de hiperparâmetros neste modelo."
   ]
  },
  {
   "cell_type": "code",
   "execution_count": 42,
   "metadata": {
    "id": "0sX5iDV2DeSS",
    "tags": []
   },
   "outputs": [],
   "source": [
    "param_grid = {'n_factors': [10,15,20], #Default é 15\n",
    "              'n_epochs': [30,50,70], #Default é 50\n",
    "              'reg_qi':[0.01,0.06,0.1], #Default é 0.06\n",
    "              'random_state':[1234]}\n",
    "grid_search = GridSearchCV(NMF, param_grid, measures=['rmse','mae'], cv=3)\n",
    "grid_search.fit(data)"
   ]
  },
  {
   "cell_type": "code",
   "execution_count": 43,
   "metadata": {
    "colab": {
     "base_uri": "https://localhost:8080/"
    },
    "id": "dRr5hSjjDjqG",
    "outputId": "14bff671-dfcb-4265-c449-92f56d5265e2",
    "tags": []
   },
   "outputs": [
    {
     "name": "stdout",
     "output_type": "stream",
     "text": [
      "1.1171703024296569\n"
     ]
    }
   ],
   "source": [
    "print(grid_search.best_score['rmse'])"
   ]
  },
  {
   "cell_type": "markdown",
   "metadata": {
    "id": "HVQKLVk9J6vF"
   },
   "source": [
    "Note que o RMSE da melhor combinação de hiperparâmetros ficou muito maior que o RMSE calculado no conjunto de treinamento, indicando que houve sobreajuste no treinamento. Portanto, vamos realizar o refinamento de hiperparâmetros no SVD, para comparar os resultados."
   ]
  },
  {
   "cell_type": "code",
   "execution_count": 44,
   "metadata": {
    "id": "3BKwaifnfiP9",
    "tags": []
   },
   "outputs": [],
   "source": [
    "from surprise.model_selection import GridSearchCV\n",
    "\n",
    "param_grid = {'n_factors': [100,150], # defualt=100\n",
    "              'n_epochs': [20,25,30], # defualt=20\n",
    "              'lr_all':[0.005,0.01,0.1], # defualt=0.005\n",
    "              'reg_all':[0.02,0.05,0.1], # defualt=0.02\n",
    "              'random_state':[1234]}\n",
    "grid_search = GridSearchCV(SVD, param_grid, measures=['rmse','mae'], cv=3)\n",
    "grid_search.fit(data)"
   ]
  },
  {
   "cell_type": "code",
   "execution_count": 45,
   "metadata": {
    "colab": {
     "base_uri": "https://localhost:8080/"
    },
    "id": "KY7s_RHJKX9-",
    "outputId": "5f5b8f06-cb29-4017-d4be-3a508f18d2e2",
    "tags": []
   },
   "outputs": [
    {
     "name": "stdout",
     "output_type": "stream",
     "text": [
      "0.9695968583102935\n"
     ]
    }
   ],
   "source": [
    "print(grid_search.best_score['rmse'])"
   ]
  },
  {
   "cell_type": "markdown",
   "metadata": {
    "id": "Ajb5JawOLb7l"
   },
   "source": [
    "Com o RMSE mais baixo que o NMF, escolhemos aplicar validação cruzada no algorotmo SVD, com os melhores hiperparâmetros."
   ]
  },
  {
   "cell_type": "code",
   "execution_count": 46,
   "metadata": {
    "colab": {
     "base_uri": "https://localhost:8080/"
    },
    "id": "2Ifkfo-QKYG6",
    "outputId": "5f593f9a-2e04-4587-faa9-f923400fa45b",
    "tags": []
   },
   "outputs": [
    {
     "name": "stdout",
     "output_type": "stream",
     "text": [
      "{'n_factors': 100, 'n_epochs': 30, 'lr_all': 0.01, 'reg_all': 0.1, 'random_state': 1234}\n"
     ]
    }
   ],
   "source": [
    "print(grid_search.best_params['rmse'])"
   ]
  },
  {
   "cell_type": "code",
   "execution_count": 47,
   "metadata": {
    "colab": {
     "base_uri": "https://localhost:8080/"
    },
    "id": "x_4-J1V1KYQB",
    "outputId": "a3935e68-bb4d-4930-d214-7cb6258bfbcd",
    "tags": []
   },
   "outputs": [
    {
     "name": "stdout",
     "output_type": "stream",
     "text": [
      "Evaluating RMSE, MAE of algorithm SVD on 5 split(s).\n",
      "\n",
      "                  Fold 1  Fold 2  Fold 3  Fold 4  Fold 5  Mean    Std     \n",
      "RMSE (testset)    0.9677  0.9670  0.9602  0.9625  0.9665  0.9648  0.0029  \n",
      "MAE (testset)     0.7514  0.7463  0.7477  0.7464  0.7517  0.7487  0.0024  \n",
      "Fit time          2.15    2.21    2.30    2.24    2.23    2.23    0.05    \n",
      "Test time         0.12    0.12    0.41    0.12    0.12    0.18    0.12    \n"
     ]
    },
    {
     "data": {
      "text/plain": [
       "{'test_rmse': array([0.96765428, 0.96699677, 0.96021291, 0.96246056, 0.96653025]),\n",
       " 'test_mae': array([0.75136803, 0.74629508, 0.74768479, 0.7463834 , 0.75174061]),\n",
       " 'fit_time': (2.153818130493164,\n",
       "  2.2105705738067627,\n",
       "  2.3010435104370117,\n",
       "  2.240523099899292,\n",
       "  2.2341833114624023),\n",
       " 'test_time': (0.11640453338623047,\n",
       "  0.1183478832244873,\n",
       "  0.4080648422241211,\n",
       "  0.1183159351348877,\n",
       "  0.1156923770904541)}"
      ]
     },
     "execution_count": 47,
     "metadata": {},
     "output_type": "execute_result"
    }
   ],
   "source": [
    "algo = grid_search.best_estimator['rmse']\n",
    "\n",
    "cross_validate(algo, data, measures=['RMSE', 'MAE'], cv=5, verbose=True)"
   ]
  },
  {
   "cell_type": "markdown",
   "metadata": {
    "id": "6YC1zf_1Gu9H"
   },
   "source": [
    "O RMSE médio observado foi de 0,96, representando 21% da variação da escala, ou seja, obtemos uma performance média. Dado o desvio padrão baixo (0,004), nota-se que o algoritmo é bem comportado neste banco de dados e pode ser usado para sugerir filmes para usuários."
   ]
  },
  {
   "cell_type": "markdown",
   "metadata": {
    "id": "Kn4w-wrOleK_"
   },
   "source": [
    "Não foi possível fazer refinamento de parâmetros no KNN, que apresentou a segunda melhor acurácia no banco de treinamento, porém avaliando a acurácia com validação cruzada, observou-se que esse algoritmo apresetou maior RMSE que o SVD."
   ]
  },
  {
   "cell_type": "code",
   "execution_count": 48,
   "metadata": {
    "colab": {
     "base_uri": "https://localhost:8080/"
    },
    "id": "rl97U7UElnTm",
    "outputId": "8022ea28-86dd-4095-95da-eff4ffdff15f",
    "tags": []
   },
   "outputs": [
    {
     "name": "stdout",
     "output_type": "stream",
     "text": [
      "Computing the cosine similarity matrix...\n",
      "Done computing similarity matrix.\n",
      "Computing the cosine similarity matrix...\n",
      "Done computing similarity matrix.\n",
      "Computing the cosine similarity matrix...\n",
      "Done computing similarity matrix.\n",
      "Computing the cosine similarity matrix...\n",
      "Done computing similarity matrix.\n",
      "Computing the cosine similarity matrix...\n",
      "Done computing similarity matrix.\n",
      "Evaluating RMSE, MAE of algorithm KNNWithMeans on 5 split(s).\n",
      "\n",
      "                  Fold 1  Fold 2  Fold 3  Fold 4  Fold 5  Mean    Std     \n",
      "RMSE (testset)    1.0396  1.0399  1.0392  1.0349  1.0343  1.0375  0.0025  \n",
      "MAE (testset)     0.8158  0.8135  0.8150  0.8125  0.8121  0.8138  0.0014  \n",
      "Fit time          1.86    1.91    1.95    1.92    2.01    1.93    0.05    \n",
      "Test time         0.18    0.17    0.50    0.18    0.18    0.24    0.13    \n"
     ]
    },
    {
     "data": {
      "text/plain": [
       "{'test_rmse': array([1.03955476, 1.03989114, 1.03915688, 1.03486164, 1.03426199]),\n",
       " 'test_mae': array([0.81581581, 0.81348499, 0.81498096, 0.8125062 , 0.81206897]),\n",
       " 'fit_time': (1.8598248958587646,\n",
       "  1.907480001449585,\n",
       "  1.9454433917999268,\n",
       "  1.9173204898834229,\n",
       "  2.011765956878662),\n",
       " 'test_time': (0.17692208290100098,\n",
       "  0.1704695224761963,\n",
       "  0.5004315376281738,\n",
       "  0.1767103672027588,\n",
       "  0.18084478378295898)}"
      ]
     },
     "execution_count": 48,
     "metadata": {},
     "output_type": "execute_result"
    }
   ],
   "source": [
    "sim_options = {\n",
    "    \"name\": \"cosine\", # usa o cosseno como medida de similaridade\n",
    "    \"user_based\": False,  # calcula similaridade entre itens\n",
    "}\n",
    "algoritmoknn = KNNWithMeans(sim_options=sim_options)\n",
    "\n",
    "cross_validate(algoritmoknn, data, measures=['RMSE', 'MAE'], cv=5, verbose=True)"
   ]
  },
  {
   "cell_type": "markdown",
   "metadata": {
    "id": "aRJEZhWqQjX-"
   },
   "source": [
    "## **Trabalhos Futuros** <br>\n",
    "\n",
    "Avaliar se existe oportunidade de melhorar a performance da recomendação testando outros algorítmos, até mesmo usando modelos híbridos a partir de deep learning."
   ]
  }
 ],
 "metadata": {
  "colab": {
   "provenance": []
  },
  "kernelspec": {
   "display_name": "conda_python3",
   "language": "python",
   "name": "conda_python3"
  },
  "language_info": {
   "codemirror_mode": {
    "name": "ipython",
    "version": 3
   },
   "file_extension": ".py",
   "mimetype": "text/x-python",
   "name": "python",
   "nbconvert_exporter": "python",
   "pygments_lexer": "ipython3",
   "version": "3.10.13"
  }
 },
 "nbformat": 4,
 "nbformat_minor": 4
}
